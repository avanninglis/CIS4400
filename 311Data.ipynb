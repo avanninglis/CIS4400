{
  "nbformat": 4,
  "nbformat_minor": 0,
  "metadata": {
    "colab": {
      "provenance": [],
      "authorship_tag": "ABX9TyN5V1LUQn0nxLbnS72JH/z4",
      "include_colab_link": true
    },
    "kernelspec": {
      "name": "python3",
      "display_name": "Python 3"
    },
    "language_info": {
      "name": "python"
    }
  },
  "cells": [
    {
      "cell_type": "markdown",
      "metadata": {
        "id": "view-in-github",
        "colab_type": "text"
      },
      "source": [
        "<a href=\"https://colab.research.google.com/github/avanninglis/CIS4400/blob/main/311Data.ipynb\" target=\"_parent\"><img src=\"https://colab.research.google.com/assets/colab-badge.svg\" alt=\"Open In Colab\"/></a>"
      ]
    },
    {
      "cell_type": "code",
      "source": [
        "\n",
        "from bs4 import BeautifulSoup\n",
        "import requests\n",
        "\n",
        "import pymongo\n",
        "url = \"https://data.cityofnewyork.us/resource/erm2-nwe9.json?$limit=10000\"\n",
        "response = requests.get(url)\n",
        "data = response.json()\n",
        "df = pd.json_normalize(data)\n",
        "df.to_csv('311Data.csv', index=False)\n",
        "\n",
        "# Normalize JSON data into pandas DataFrame\n",
        "\n",
        "\n",
        "print(df)"
      ],
      "metadata": {
        "colab": {
          "base_uri": "https://localhost:8080/"
        },
        "id": "gcQ-gUgY9oa5",
        "outputId": "03f5d259-cb20-47a1-8a12-47d1338e8574"
      },
      "execution_count": null,
      "outputs": [
        {
          "output_type": "stream",
          "name": "stdout",
          "text": [
            "     unique_key             created_date              closed_date agency  \\\n",
            "0      60785153  2024-04-06T02:58:25.000  2024-04-06T02:58:25.000    DOT   \n",
            "1      60786695  2024-04-06T01:45:23.000                      NaN    DOT   \n",
            "2      60779202  2024-04-06T00:55:00.000                      NaN    DOT   \n",
            "3      60785157  2024-04-06T00:08:00.000                      NaN    DOT   \n",
            "4      60782225  2024-04-05T23:51:10.000                      NaN   NYPD   \n",
            "...         ...                      ...                      ...    ...   \n",
            "9995   60768820  2024-04-04T21:45:43.000                      NaN    HPD   \n",
            "9996   60774230  2024-04-04T21:45:42.000  2024-04-05T19:50:15.000    HPD   \n",
            "9997   60776474  2024-04-04T21:45:39.000  2024-04-04T22:13:07.000   NYPD   \n",
            "9998   60772007  2024-04-04T21:45:39.000  2024-04-05T08:40:34.000   NYPD   \n",
            "9999   60768508  2024-04-04T21:45:35.000  2024-04-04T22:12:39.000   NYPD   \n",
            "\n",
            "                                            agency_name  \\\n",
            "0                          Department of Transportation   \n",
            "1                          Department of Transportation   \n",
            "2                          Department of Transportation   \n",
            "3                          Department of Transportation   \n",
            "4                       New York City Police Department   \n",
            "...                                                 ...   \n",
            "9995  Department of Housing Preservation and Develop...   \n",
            "9996  Department of Housing Preservation and Develop...   \n",
            "9997                    New York City Police Department   \n",
            "9998                    New York City Police Department   \n",
            "9999                    New York City Police Department   \n",
            "\n",
            "                complaint_type                      descriptor incident_zip  \\\n",
            "0             Street Condition                         Pothole        10065   \n",
            "1             Street Condition                         Pothole          NaN   \n",
            "2     Traffic Signal Condition                      Controller        11377   \n",
            "3       Street Light Condition                Street Light Out        11223   \n",
            "4          Noise - Residential                Loud Music/Party        10463   \n",
            "...                        ...                             ...          ...   \n",
            "9995                   GENERAL            BELL/BUZZER/INTERCOM        10453   \n",
            "9996            HEAT/HOT WATER                 ENTIRE BUILDING        10014   \n",
            "9997           Noise - Vehicle                  Car/Truck Horn        11366   \n",
            "9998           Illegal Parking  Double Parked Blocking Traffic        11214   \n",
            "9999           Noise - Vehicle                  Car/Truck Horn        11366   \n",
            "\n",
            "     intersection_street_1 intersection_street_2  ...  \\\n",
            "0                 5 AVENUE        EAST 65 STREET  ...   \n",
            "1                      NaN                   NaN  ...   \n",
            "2          WOODSIDE AVENUE             61 STREET  ...   \n",
            "3                      NaN                   NaN  ...   \n",
            "4         MARBLE HILL LANE    MARBLE HILL AVENUE  ...   \n",
            "...                    ...                   ...  ...   \n",
            "9995                   NaN                   NaN  ...   \n",
            "9996                   NaN                   NaN  ...   \n",
            "9997     PARSONS BOULEVARD            160 STREET  ...   \n",
            "9998             16 AVENUE             17 AVENUE  ...   \n",
            "9999     PARSONS BOULEVARD            160 STREET  ...   \n",
            "\n",
            "                   location_type          landmark vehicle_type  \\\n",
            "0                            NaN               NaN          NaN   \n",
            "1                            NaN               NaN          NaN   \n",
            "2                            NaN               NaN          NaN   \n",
            "3                            NaN               NaN          NaN   \n",
            "4     Residential Building/House  WEST  228 STREET          NaN   \n",
            "...                          ...               ...          ...   \n",
            "9995        RESIDENTIAL BUILDING               NaN          NaN   \n",
            "9996        RESIDENTIAL BUILDING               NaN          NaN   \n",
            "9997             Street/Sidewalk         78 AVENUE        Other   \n",
            "9998             Street/Sidewalk         81 STREET          Car   \n",
            "9999             Street/Sidewalk         78 AVENUE        Other   \n",
            "\n",
            "     taxi_pick_up_location bridge_highway_name bridge_highway_segment  \\\n",
            "0                      NaN                 NaN                    NaN   \n",
            "1                      NaN                 NaN                    NaN   \n",
            "2                      NaN                 NaN                    NaN   \n",
            "3                      NaN                 NaN                    NaN   \n",
            "4                      NaN                 NaN                    NaN   \n",
            "...                    ...                 ...                    ...   \n",
            "9995                   NaN                 NaN                    NaN   \n",
            "9996                   NaN                 NaN                    NaN   \n",
            "9997                   NaN                 NaN                    NaN   \n",
            "9998                   NaN                 NaN                    NaN   \n",
            "9999                   NaN                 NaN                    NaN   \n",
            "\n",
            "     taxi_company_borough bridge_highway_direction road_ramp due_date  \n",
            "0                     NaN                      NaN       NaN      NaN  \n",
            "1                     NaN                      NaN       NaN      NaN  \n",
            "2                     NaN                      NaN       NaN      NaN  \n",
            "3                     NaN                      NaN       NaN      NaN  \n",
            "4                     NaN                      NaN       NaN      NaN  \n",
            "...                   ...                      ...       ...      ...  \n",
            "9995                  NaN                      NaN       NaN      NaN  \n",
            "9996                  NaN                      NaN       NaN      NaN  \n",
            "9997                  NaN                      NaN       NaN      NaN  \n",
            "9998                  NaN                      NaN       NaN      NaN  \n",
            "9999                  NaN                      NaN       NaN      NaN  \n",
            "\n",
            "[10000 rows x 49 columns]\n"
          ]
        }
      ]
    }
  ]
}